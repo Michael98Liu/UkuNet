{
 "cells": [
  {
   "cell_type": "code",
   "execution_count": 1,
   "metadata": {},
   "outputs": [],
   "source": [
    "import requests\n",
    "import pickle\n",
    "import sys\n",
    "sys.path.append('/Users/michael/Code/UkuNet/')\n",
    "\n",
    "from bs4 import BeautifulSoup\n",
    "import pandas as pd\n",
    "from tqdm import tqdm\n",
    "from UkuNet import scrape_artists, scrape_songs, utilities, parser\n",
    "\n",
    "pd.options.display.max_colwidth = 1000"
   ]
  },
  {
   "cell_type": "code",
   "execution_count": 2,
   "metadata": {},
   "outputs": [
    {
     "name": "stderr",
     "output_type": "stream",
     "text": [
      "100%|██████████| 26/26 [00:15<00:00,  1.69it/s]"
     ]
    },
    {
     "name": "stdout",
     "output_type": "stream",
     "text": [
      "Found 1883 artists\n"
     ]
    },
    {
     "name": "stderr",
     "output_type": "stream",
     "text": [
      "\n"
     ]
    }
   ],
   "source": [
    "artists_dict = scrape_artists.get_artists()"
   ]
  },
  {
   "cell_type": "code",
   "execution_count": 3,
   "metadata": {},
   "outputs": [
    {
     "name": "stderr",
     "output_type": "stream",
     "text": [
      "100%|██████████| 26/26 [16:54<00:00, 39.00s/it]"
     ]
    },
    {
     "name": "stdout",
     "output_type": "stream",
     "text": [
      "Found 5588 songs.\n"
     ]
    },
    {
     "name": "stderr",
     "output_type": "stream",
     "text": [
      "\n"
     ]
    }
   ],
   "source": [
    "songs_dict = scrape_songs.get_songs()"
   ]
  },
  {
   "cell_type": "code",
   "execution_count": 2,
   "metadata": {},
   "outputs": [],
   "source": [
    "songs_dict = utilities.load_json('songs')"
   ]
  },
  {
   "cell_type": "code",
   "execution_count": 3,
   "metadata": {},
   "outputs": [],
   "source": [
    "df = pd.DataFrame(columns=['song', 'artist', 'genre', 'parts', 'chords', 'lyrics'])"
   ]
  },
  {
   "cell_type": "code",
   "execution_count": 4,
   "metadata": {},
   "outputs": [
    {
     "name": "stderr",
     "output_type": "stream",
     "text": [
      "100%|██████████| 1883/1883 [1:03:18<00:00,  2.02s/it]\n"
     ]
    }
   ],
   "source": [
    "errors = []\n",
    "\n",
    "for artist, l in tqdm(songs_dict.items()):\n",
    "    for url in l:\n",
    "        r = requests.get(url)\n",
    "        song = url.split('/')[-2]\n",
    "        \n",
    "        if r.status_code != 200:\n",
    "            raise Exception(\"Wrong Response.\")\n",
    "            \n",
    "        try:\n",
    "            utilities.store_page(r.text, song)\n",
    "            genre = parser.get_genre(r.text)\n",
    "\n",
    "            my_parser = parser.MyHTMLParser(artist, song, genre)\n",
    "            my_parser.feed(r.text)\n",
    "            df = df.append(my_parser.dump(), ignore_index=True)\n",
    "        except Exception as e:\n",
    "            errors.append([artist, song, e])"
   ]
  },
  {
   "cell_type": "code",
   "execution_count": 7,
   "metadata": {},
   "outputs": [
    {
     "data": {
      "text/plain": [
       "107"
      ]
     },
     "execution_count": 7,
     "metadata": {},
     "output_type": "execute_result"
    }
   ],
   "source": [
    "len(errors)"
   ]
  },
  {
   "cell_type": "code",
   "execution_count": 9,
   "metadata": {},
   "outputs": [],
   "source": [
    "assert(len(errors) + len(df) == 5588)"
   ]
  },
  {
   "cell_type": "code",
   "execution_count": 12,
   "metadata": {},
   "outputs": [],
   "source": [
    "df.to_csv(utilities.ROOT_DIR + '/data/chords_dataframe.csv')"
   ]
  },
  {
   "cell_type": "code",
   "execution_count": 13,
   "metadata": {},
   "outputs": [
    {
     "data": {
      "text/html": [
       "<div>\n",
       "<style scoped>\n",
       "    .dataframe tbody tr th:only-of-type {\n",
       "        vertical-align: middle;\n",
       "    }\n",
       "\n",
       "    .dataframe tbody tr th {\n",
       "        vertical-align: top;\n",
       "    }\n",
       "\n",
       "    .dataframe thead th {\n",
       "        text-align: right;\n",
       "    }\n",
       "</style>\n",
       "<table border=\"1\" class=\"dataframe\">\n",
       "  <thead>\n",
       "    <tr style=\"text-align: right;\">\n",
       "      <th></th>\n",
       "      <th>song</th>\n",
       "      <th>artist</th>\n",
       "      <th>genre</th>\n",
       "      <th>parts</th>\n",
       "      <th>chords</th>\n",
       "      <th>lyrics</th>\n",
       "    </tr>\n",
       "  </thead>\n",
       "  <tbody>\n",
       "    <tr>\n",
       "      <th>0</th>\n",
       "      <td>end-of-me</td>\n",
       "      <td>a-day-to-remember</td>\n",
       "      <td>[emocore, hardcore, pop punk, post-hardcore, screamo]</td>\n",
       "      <td>[Intro, Interlude, Interlude, Outro]</td>\n",
       "      <td>[[[Bm, Gbm, E, Bm, Gbm], [E], [Bm], [Gbm, E], [Bm, Gbm, E], [Bm], [Gbm, E], [Bm], [Gbm, E], [Bm], [Gbm, E], [Bm], [Gbm, E], [Bm, Gbm, E]], [[Bm, Gbm, E, Bm, Gbm], [E], [Bm], [Gbm, E], [Bm, Gbm], [E], [Bm], [Gbm, E], [Bm], [Gbm, E], [Bm], [Gbm, E], [Bm], [Gbm, E], [Bm, Gbm, E]], [[Bm, Gbm, A, E, Bm, Gbm], [A, E], [Bm, Gbm], [A, E], [Bm], [Gbm, E], [Bm], [Gbm, E], [Bm], [Gbm, E], [Bm, Gbm, E]], []]</td>\n",
       "      <td>[[-x2-:, I took some time away, For understanding, Of what brought us here today, Oh, you'll be the end of me, I'm never happy like we were happy, I'm never sad like we were sad, Oh, you'll be the end of me, You know me all too well, And I can't suppress the memories, You're gone and I can tell, That I've lost more than you'll ever see, Don't say that it's not fair, That you're not the person you wanna be, Oh, you'll be the end of me], [-x2-:, I know I wasn't perfect,, But I kept trying, ‘Till I forgot why I stayed, Oh, you'll be the end of me, Yeah, we lost all meaning, We lost the magic, So good luck to you on your way, Oh, you'll be the end of me, You know me all too well, And I can't suppress the memories, You're gone and I can tell, That I've lost more than you'll ever see, Don't say that it's not fair, That you're not the person you wanna be, Oh, you'll be the end of me You'll be the end of me], [-x2-:, I get it now, I get it, Gave more than I took back, oh well -so back away...</td>\n",
       "    </tr>\n",
       "    <tr>\n",
       "      <th>1</th>\n",
       "      <td>the-downfall-of-us-all</td>\n",
       "      <td>a-day-to-remember</td>\n",
       "      <td>[emocore, hardcore, pop punk, post-hardcore, screamo]</td>\n",
       "      <td>[Intro, Interlude, Interlude]</td>\n",
       "      <td>[[[C, C, Am, F], [C], [Am], [F, C], [C], [Am, F, Am], [Am, Ab], [F, C, Am], [Ab, C], [C], [Am], [F, C], [C], [Am], [F, G], [F, C]], [[C, C, Am, F, C], [Am, F], [C], [Am, G], [Am, Ab], [F, C, Am], [Ab, C], [C], [Am], [F, C], [C], [Am], [F, G], [F, C]], [[C, C, Am, F, C], [Am, F], [C], [Am, F], [C], [Am], [F, C], [C], [Am], [F, C], [C], [Am], [F, C], [C], [Am], [F, G], [F, G], [F, C], [C], [C], [C], [C]]]</td>\n",
       "      <td>[[: Da da da da dada dada Da da da dada dada Dada dada dada dada dada dada Dada dada LET'S GO!!!, -x2-, It's not easy making a name for yourself, Where do you draw the line?, I never thought I'd be in this far, Let's have some fun and never change, not for anyone, Try not to miss me when I'm gone, Whooa, Whoooa, I sold my soul to the open road, -I'll live my life alone-, You won't find me in the same spot, Believe me I could never stop, My life's turned upside down, Meet me out past the train tracks, I'm leaving and not coming back, You're right and I was wrong, This town will be the downfall of us all], [-x2-:, I'm gonna need you to try to follow along., I did the best that I could to try to write you songs., Now go tell them we sold out, like we're the ones who changed., I write what I feel, I say what I mean. You can't buy sincerity., -Whooa, Whoooa-, I sold my soul to the open road, -I'll live my life alone-, You won't find me in the same spot, Believe me I could never stop, My...</td>\n",
       "    </tr>\n",
       "    <tr>\n",
       "      <th>2</th>\n",
       "      <td>another-song-about-the-weekend</td>\n",
       "      <td>a-day-to-remember</td>\n",
       "      <td>[emocore, hardcore, pop punk, post-hardcore, screamo]</td>\n",
       "      <td>[Verse, Pre-Chorus, Chorus, Verse, Pre-Chorus, Chorus, Bridge, Chorus]</td>\n",
       "      <td>[[[C, F], [C], [G], [C, F], [C], [G]], [[Am], [C], [F], [C, G]], [[C], [F, Am], [G, F], [C], [F], [Am, G, F]], [[C, F], [C, G]], [[Am], [C], [F], [C, G], [Am, C], [F, C, G]], [[C], [F, Am], [G, F], [C], [F], [Am, G, F]], [[C], [F]], [[C], [F, Am], [G, F], [C], [F], [Am, G, F]]]</td>\n",
       "      <td>[[They keep playing sad songs on the radio, And I feel like I'm so alone, On this 15 hour drive, And all the while I tell myself to just believe, Cause nobody can give so much, And never get anything -never get anything-], [Everyone I used to know, says they don't know what i've become, But I'm still the same Not much has changed, I still know where I came from], [I fell asleep with the lights on, And I can see that you're the first one in a long time., That had some faith in me -have faith in me-, I tell my friends, it won't be long, Before it's time for me to come back home, It feels like I'm ready for anything If you can wait for me.], [And all the while I say too much of what I think, And I can't remember what it's like to find meaning in anything For the life of me], [Everyone I used to know, says they don't know what i've become, But I'm still the same Not much has changed, I still know where I came from, And all I ever wanted was so far from what I need, I'll write my songs....</td>\n",
       "    </tr>\n",
       "    <tr>\n",
       "      <th>3</th>\n",
       "      <td>all-i-want</td>\n",
       "      <td>a-day-to-remember</td>\n",
       "      <td>[emocore, hardcore, pop punk, post-hardcore, screamo]</td>\n",
       "      <td>[Intro, Chorus, Interlude, Chorus, Bridge, Chorus, Outro]</td>\n",
       "      <td>[[[Dm, Bb, C, C, Dm], [Bb, C, Dm], [Bb, C], [Dm], [Bb, C], [Dm], [Bb, C], [Bb, F], [C, Dm], [Bb, F, C]], [[Dm], [F], [C, Bb, Db, Dm], [Bb, Db]], [[Dm, Bb, Db, Dm], [Bb, C], [Dm], [Bb, C], [Bb, F, C, Dm], [Bb, F, C]], [[Dm], [F], [C, Bb, Db, Dm], [Bb, Db]], [[Bb, G], [Dm], [Bb, C], [Dm], [Bb, C]], [[Dm], [F], [C, Bb, Db, Dm], [Bb, Db]], [[Bb, G], [Bb, Db, Dm]]]</td>\n",
       "      <td>[[I'm always screaming my lungs out, till my head starts spinning., Playing my songs is the way I cope with life. Won't keep my voice down., Know the words I speak are the thoughts I think out, loud. I like to keep things honest., I'm a safe bet like your life's staked on it., For real. I'd hate to keep you all wondering., I'm constant like the seasons, I will never be forgotten, man., Let's leave no words unspoken, And save regrets for the broken., Will you even look back when you think of me?], [All I want is a place to call my own,, And mend the hearts of everyone who feels alone, whoa, you know to keep your hopes up high and your head down low., Keep your hopes up high and your head down low.], [Still got something left to prove. It tends to keep things moving., While everyone around me says my last days are looming, overhead, but what the hell do they think they know?, My head's above the water while they drown in the undertow., Let's leave no words unspoken and save regrets f...</td>\n",
       "    </tr>\n",
       "    <tr>\n",
       "      <th>4</th>\n",
       "      <td>if-it-means-a-lot-to-you</td>\n",
       "      <td>a-day-to-remember</td>\n",
       "      <td>[emocore, hardcore, pop punk, post-hardcore, screamo]</td>\n",
       "      <td>[Intro, Verse, Bridge, Chorus, Verse, Bridge, Chorus, Bridge, Outro]</td>\n",
       "      <td>[[[Gm, Bb, F]], [[Gm, Bb, F, Gm], [Bb, F], [Gm], [Bb, F, Gm], [Bb, F]], [[Bb, F, Gm]], [[Bb, F], [Gm, E, F], [Bb, F], [Gm, E], [F]], [[Gm, Bb, F, Gm], [Bb, F], [Gm], [Bb, F, Gm], [Bb, F]], [[Bb, F, Gm], [Bb, F, Bb]], [[Bb, F], [Gm, E, F], [Bb, F], [Gm, E], [F], [Gm, F], [Bb, Bb, Gm], [Gm, F], [F]], [[Gm, F], [F, Gm], [F], [F]], [[Bb, F, Gm], [Bb, F, Gm], [Bb, F, Gm]]]</td>\n",
       "      <td>[[xA|-3h5p3----3h5p3---------3h5p3-----------------------|-----------------| xE|----------------------------------------------------|--3~-------------| xC|----------------------------------------------------|-----------------| xG|-------3-0-----3-0-3-3-3------3-0-2-2-3-2-2-2-3-2-2-|-----------------|], [Hey darling, I hope you're good tonight, And I know you don't feel right when I'm leaving, Yeah, I want it but no, I don't need it, Tell me something sweet to get me by, 'Cause I can't come back home 'til they're singin'], [La, la la la, la la la 'Til everyone is singin'], [If you can wait 'til I get home, Then I swear to you that we can make this last- La la la -, If you can wait 'til I get home, Then I swear come tomorrow, this will all be in our past, It might be for the best], [Hey sweetie, I need you here tonight, And I know that you don't wanna be leaving, Yeah, you want it but I can't help it, I just feel complete when you're by my side, But I know you can't come home 'til th...</td>\n",
       "    </tr>\n",
       "  </tbody>\n",
       "</table>\n",
       "</div>"
      ],
      "text/plain": [
       "                             song             artist  \\\n",
       "0                       end-of-me  a-day-to-remember   \n",
       "1          the-downfall-of-us-all  a-day-to-remember   \n",
       "2  another-song-about-the-weekend  a-day-to-remember   \n",
       "3                      all-i-want  a-day-to-remember   \n",
       "4        if-it-means-a-lot-to-you  a-day-to-remember   \n",
       "\n",
       "                                                   genre  \\\n",
       "0  [emocore, hardcore, pop punk, post-hardcore, screamo]   \n",
       "1  [emocore, hardcore, pop punk, post-hardcore, screamo]   \n",
       "2  [emocore, hardcore, pop punk, post-hardcore, screamo]   \n",
       "3  [emocore, hardcore, pop punk, post-hardcore, screamo]   \n",
       "4  [emocore, hardcore, pop punk, post-hardcore, screamo]   \n",
       "\n",
       "                                                                    parts  \\\n",
       "0                                    [Intro, Interlude, Interlude, Outro]   \n",
       "1                                           [Intro, Interlude, Interlude]   \n",
       "2  [Verse, Pre-Chorus, Chorus, Verse, Pre-Chorus, Chorus, Bridge, Chorus]   \n",
       "3               [Intro, Chorus, Interlude, Chorus, Bridge, Chorus, Outro]   \n",
       "4    [Intro, Verse, Bridge, Chorus, Verse, Bridge, Chorus, Bridge, Outro]   \n",
       "\n",
       "                                                                                                                                                                                                                                                                                                                                                                                                                   chords  \\\n",
       "0         [[[Bm, Gbm, E, Bm, Gbm], [E], [Bm], [Gbm, E], [Bm, Gbm, E], [Bm], [Gbm, E], [Bm], [Gbm, E], [Bm], [Gbm, E], [Bm], [Gbm, E], [Bm, Gbm, E]], [[Bm, Gbm, E, Bm, Gbm], [E], [Bm], [Gbm, E], [Bm, Gbm], [E], [Bm], [Gbm, E], [Bm], [Gbm, E], [Bm], [Gbm, E], [Bm], [Gbm, E], [Bm, Gbm, E]], [[Bm, Gbm, A, E, Bm, Gbm], [A, E], [Bm, Gbm], [A, E], [Bm], [Gbm, E], [Bm], [Gbm, E], [Bm], [Gbm, E], [Bm, Gbm, E]], []]   \n",
       "1  [[[C, C, Am, F], [C], [Am], [F, C], [C], [Am, F, Am], [Am, Ab], [F, C, Am], [Ab, C], [C], [Am], [F, C], [C], [Am], [F, G], [F, C]], [[C, C, Am, F, C], [Am, F], [C], [Am, G], [Am, Ab], [F, C, Am], [Ab, C], [C], [Am], [F, C], [C], [Am], [F, G], [F, C]], [[C, C, Am, F, C], [Am, F], [C], [Am, F], [C], [Am], [F, C], [C], [Am], [F, C], [C], [Am], [F, C], [C], [Am], [F, G], [F, G], [F, C], [C], [C], [C], [C]]]   \n",
       "2                                                                                                                                  [[[C, F], [C], [G], [C, F], [C], [G]], [[Am], [C], [F], [C, G]], [[C], [F, Am], [G, F], [C], [F], [Am, G, F]], [[C, F], [C, G]], [[Am], [C], [F], [C, G], [Am, C], [F, C, G]], [[C], [F, Am], [G, F], [C], [F], [Am, G, F]], [[C], [F]], [[C], [F, Am], [G, F], [C], [F], [Am, G, F]]]   \n",
       "3                                              [[[Dm, Bb, C, C, Dm], [Bb, C, Dm], [Bb, C], [Dm], [Bb, C], [Dm], [Bb, C], [Bb, F], [C, Dm], [Bb, F, C]], [[Dm], [F], [C, Bb, Db, Dm], [Bb, Db]], [[Dm, Bb, Db, Dm], [Bb, C], [Dm], [Bb, C], [Bb, F, C, Dm], [Bb, F, C]], [[Dm], [F], [C, Bb, Db, Dm], [Bb, Db]], [[Bb, G], [Dm], [Bb, C], [Dm], [Bb, C]], [[Dm], [F], [C, Bb, Db, Dm], [Bb, Db]], [[Bb, G], [Bb, Db, Dm]]]   \n",
       "4                                      [[[Gm, Bb, F]], [[Gm, Bb, F, Gm], [Bb, F], [Gm], [Bb, F, Gm], [Bb, F]], [[Bb, F, Gm]], [[Bb, F], [Gm, E, F], [Bb, F], [Gm, E], [F]], [[Gm, Bb, F, Gm], [Bb, F], [Gm], [Bb, F, Gm], [Bb, F]], [[Bb, F, Gm], [Bb, F, Bb]], [[Bb, F], [Gm, E, F], [Bb, F], [Gm, E], [F], [Gm, F], [Bb, Bb, Gm], [Gm, F], [F]], [[Gm, F], [F, Gm], [F], [F]], [[Bb, F, Gm], [Bb, F, Gm], [Bb, F, Gm]]]   \n",
       "\n",
       "                                                                                                                                                                                                                                                                                                                                                                                                                                                                                                                                                                                                                                                                                                                                                                                                                                                                                                                                                                                                                                    lyrics  \n",
       "0  [[-x2-:, I took some time away, For understanding, Of what brought us here today, Oh, you'll be the end of me, I'm never happy like we were happy, I'm never sad like we were sad, Oh, you'll be the end of me, You know me all too well, And I can't suppress the memories, You're gone and I can tell, That I've lost more than you'll ever see, Don't say that it's not fair, That you're not the person you wanna be, Oh, you'll be the end of me], [-x2-:, I know I wasn't perfect,, But I kept trying, ‘Till I forgot why I stayed, Oh, you'll be the end of me, Yeah, we lost all meaning, We lost the magic, So good luck to you on your way, Oh, you'll be the end of me, You know me all too well, And I can't suppress the memories, You're gone and I can tell, That I've lost more than you'll ever see, Don't say that it's not fair, That you're not the person you wanna be, Oh, you'll be the end of me You'll be the end of me], [-x2-:, I get it now, I get it, Gave more than I took back, oh well -so back away...  \n",
       "1  [[: Da da da da dada dada Da da da dada dada Dada dada dada dada dada dada Dada dada LET'S GO!!!, -x2-, It's not easy making a name for yourself, Where do you draw the line?, I never thought I'd be in this far, Let's have some fun and never change, not for anyone, Try not to miss me when I'm gone, Whooa, Whoooa, I sold my soul to the open road, -I'll live my life alone-, You won't find me in the same spot, Believe me I could never stop, My life's turned upside down, Meet me out past the train tracks, I'm leaving and not coming back, You're right and I was wrong, This town will be the downfall of us all], [-x2-:, I'm gonna need you to try to follow along., I did the best that I could to try to write you songs., Now go tell them we sold out, like we're the ones who changed., I write what I feel, I say what I mean. You can't buy sincerity., -Whooa, Whoooa-, I sold my soul to the open road, -I'll live my life alone-, You won't find me in the same spot, Believe me I could never stop, My...  \n",
       "2  [[They keep playing sad songs on the radio, And I feel like I'm so alone, On this 15 hour drive, And all the while I tell myself to just believe, Cause nobody can give so much, And never get anything -never get anything-], [Everyone I used to know, says they don't know what i've become, But I'm still the same Not much has changed, I still know where I came from], [I fell asleep with the lights on, And I can see that you're the first one in a long time., That had some faith in me -have faith in me-, I tell my friends, it won't be long, Before it's time for me to come back home, It feels like I'm ready for anything If you can wait for me.], [And all the while I say too much of what I think, And I can't remember what it's like to find meaning in anything For the life of me], [Everyone I used to know, says they don't know what i've become, But I'm still the same Not much has changed, I still know where I came from, And all I ever wanted was so far from what I need, I'll write my songs....  \n",
       "3  [[I'm always screaming my lungs out, till my head starts spinning., Playing my songs is the way I cope with life. Won't keep my voice down., Know the words I speak are the thoughts I think out, loud. I like to keep things honest., I'm a safe bet like your life's staked on it., For real. I'd hate to keep you all wondering., I'm constant like the seasons, I will never be forgotten, man., Let's leave no words unspoken, And save regrets for the broken., Will you even look back when you think of me?], [All I want is a place to call my own,, And mend the hearts of everyone who feels alone, whoa, you know to keep your hopes up high and your head down low., Keep your hopes up high and your head down low.], [Still got something left to prove. It tends to keep things moving., While everyone around me says my last days are looming, overhead, but what the hell do they think they know?, My head's above the water while they drown in the undertow., Let's leave no words unspoken and save regrets f...  \n",
       "4  [[xA|-3h5p3----3h5p3---------3h5p3-----------------------|-----------------| xE|----------------------------------------------------|--3~-------------| xC|----------------------------------------------------|-----------------| xG|-------3-0-----3-0-3-3-3------3-0-2-2-3-2-2-2-3-2-2-|-----------------|], [Hey darling, I hope you're good tonight, And I know you don't feel right when I'm leaving, Yeah, I want it but no, I don't need it, Tell me something sweet to get me by, 'Cause I can't come back home 'til they're singin'], [La, la la la, la la la 'Til everyone is singin'], [If you can wait 'til I get home, Then I swear to you that we can make this last- La la la -, If you can wait 'til I get home, Then I swear come tomorrow, this will all be in our past, It might be for the best], [Hey sweetie, I need you here tonight, And I know that you don't wanna be leaving, Yeah, you want it but I can't help it, I just feel complete when you're by my side, But I know you can't come home 'til th...  "
      ]
     },
     "execution_count": 13,
     "metadata": {},
     "output_type": "execute_result"
    }
   ],
   "source": [
    "df.head()"
   ]
  },
  {
   "cell_type": "code",
   "execution_count": null,
   "metadata": {},
   "outputs": [],
   "source": []
  }
 ],
 "metadata": {
  "kernelspec": {
   "display_name": "Python 3",
   "language": "python",
   "name": "python3"
  },
  "language_info": {
   "codemirror_mode": {
    "name": "ipython",
    "version": 3
   },
   "file_extension": ".py",
   "mimetype": "text/x-python",
   "name": "python",
   "nbconvert_exporter": "python",
   "pygments_lexer": "ipython3",
   "version": "3.6.4"
  }
 },
 "nbformat": 4,
 "nbformat_minor": 2
}
