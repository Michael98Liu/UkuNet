{
 "cells": [
  {
   "cell_type": "code",
   "execution_count": 102,
   "metadata": {},
   "outputs": [],
   "source": [
    "import requests\n",
    "import string\n",
    "import pickle\n",
    "from html.parser import HTMLParser\n",
    "\n",
    "from bs4 import BeautifulSoup\n",
    "import pandas as pd"
   ]
  },
  {
   "cell_type": "code",
   "execution_count": 83,
   "metadata": {},
   "outputs": [],
   "source": [
    "pd.options.display.max_colwidth = 1000"
   ]
  },
  {
   "cell_type": "code",
   "execution_count": 110,
   "metadata": {},
   "outputs": [
    {
     "name": "stdout",
     "output_type": "stream",
     "text": [
      "Found 1883 artists\n"
     ]
    }
   ],
   "source": [
    "# scrapping artists\n",
    "\n",
    "url_dict = {}\n",
    "count = 0\n",
    "for letter in string.ascii_lowercase:\n",
    "    letter_list = []\n",
    "    \n",
    "    r = requests.get(\"https://ukutabs.com/{}/\".format(letter))\n",
    "    if r.status_code != 200:\n",
    "        raise Exception(\"Wrong Response.\")\n",
    "    html_doc = r.text\n",
    "    soup = BeautifulSoup(html_doc, 'html.parser')\n",
    "\n",
    "    for li in soup.find_all('li', class_='cat-item'):\n",
    "        for a in li.find_all('a'):\n",
    "            count += 1\n",
    "            letter_list.append(a['href'])\n",
    "    url_dict[letter] = letter_list\n",
    "print('Found {} artists'.format(count))"
   ]
  },
  {
   "cell_type": "code",
   "execution_count": 114,
   "metadata": {},
   "outputs": [],
   "source": [
    "# utility functions\n",
    "import json\n",
    "def save_json(data, name):\n",
    "    with open('obj/'+ name + '.json', 'w') as fp:\n",
    "        json.dump(data, fp)\n",
    "        \n",
    "def load_json(name):\n",
    "    with open('obj/'+ name + '.json', 'r') as fp:\n",
    "        data = json.load(fp)\n",
    "    return data"
   ]
  },
  {
   "cell_type": "code",
   "execution_count": 113,
   "metadata": {},
   "outputs": [],
   "source": [
    "save_json(url_dict, 'artists')"
   ]
  },
  {
   "cell_type": "code",
   "execution_count": 121,
   "metadata": {},
   "outputs": [],
   "source": [
    "# scraping songs\n",
    "artists = load_json('artists')\n",
    "songs = {}\n",
    "\n",
    "for letter, l in artists.items():\n",
    "    for url in l:\n",
    "        name = url.split('/')[-2]\n",
    "        "
   ]
  },
  {
   "cell_type": "code",
   "execution_count": null,
   "metadata": {},
   "outputs": [],
   "source": []
  },
  {
   "cell_type": "code",
   "execution_count": 81,
   "metadata": {},
   "outputs": [],
   "source": [
    "# parser object to parse one song\n",
    "class MyHTMLParser(HTMLParser):\n",
    "    def __init__(self):\n",
    "        HTMLParser.__init__(self)\n",
    "        self.recording = False\n",
    "        self.current_tag = []\n",
    "        \n",
    "        self.chords = []\n",
    "        self.chords_line = []\n",
    "        self.chords_part = []\n",
    "        self.lyrics = []\n",
    "        self.lyrics_part = []\n",
    "        self.song = None\n",
    "        self.artist = None\n",
    "        self.genre = []\n",
    "        self.parts = []\n",
    "        \n",
    "    def handle_starttag(self, tag, attrs):\n",
    "        self.current_tag.append(tag)\n",
    "        if tag == 'pre':\n",
    "            self.recording = True\n",
    "\n",
    "    def handle_endtag(self, tag):\n",
    "        if tag == 'pre':\n",
    "            self.recording = False\n",
    "            self.handle_last_batch()\n",
    "        self.current_tag.pop()\n",
    "        \n",
    "\n",
    "    def handle_data(self, data):\n",
    "        if self.recording:\n",
    "            if self.current_tag[-1] == 'strong':\n",
    "                # a new part of song\n",
    "                if self.current_tag[-2] == 'strong':\n",
    "                    # chords may be nested in <strong>\n",
    "                    whole_name = ''.join([self.parts.pop(), data])\n",
    "                    self.parts.append(whole_name)\n",
    "                else:\n",
    "                    self.parts.append(data)\n",
    "                    \n",
    "                if len(self.lyrics_part) != 0 or len(self.chords_part) != 0:\n",
    "                    # append if not the first part\n",
    "                    self.lyrics.append(self.lyrics_part[:])\n",
    "                    self.chords.append(self.chords_part[:])\n",
    "                    self.lyrics_part.clear()\n",
    "                    self.chords_part.clear()\n",
    "            if self.current_tag[-1] == 'a' and data.strip() != '':\n",
    "                # a new chord\n",
    "                self.chords_line.append(data)\n",
    "            if self.current_tag[-1] == 'pre' and data.strip() != '':\n",
    "                # one line of music finished\n",
    "                # clean data\n",
    "                words = data.split()\n",
    "                lyrics = ' '.join(words)\n",
    "                if lyrics != '' and lyrics != ':':\n",
    "                    self.lyrics_part.append(lyrics)\n",
    "                if len(self.chords_line) != 0:\n",
    "                    self.chords_part.append(self.chords_line[:])\n",
    "                    self.chords_line.clear()\n",
    "        \n",
    "    def handle_last_batch(self):\n",
    "        self.lyrics.append(self.lyrics_part)\n",
    "        self.chords.append(self.chords_part)\n",
    "        \n",
    "    def dump(self):\n",
    "        #print(len(self.chords), len(self.parts), len(self.lyrics))\n",
    "        assert(len(self.chords) == len(self.parts))\n",
    "        assert(len(self.lyrics) == len(self.parts))\n",
    "        return {'song': self.song, 'artist': self.artist, 'genre': self.genre, 'chords': self.chords, 'lyrics': self.lyrics, 'parts': self.parts}"
   ]
  },
  {
   "cell_type": "code",
   "execution_count": 82,
   "metadata": {},
   "outputs": [],
   "source": [
    "df = pd.DataFrame(columns=['song', 'artist', 'genre', 'parts', 'chords', 'lyrics'])\n",
    "\n",
    "parser = MyHTMLParser()\n",
    "parser.feed(r.text)\n",
    "df = df.append(parser.dump(), ignore_index=True)"
   ]
  },
  {
   "cell_type": "code",
   "execution_count": 78,
   "metadata": {},
   "outputs": [
    {
     "data": {
      "text/html": [
       "<div>\n",
       "<style scoped>\n",
       "    .dataframe tbody tr th:only-of-type {\n",
       "        vertical-align: middle;\n",
       "    }\n",
       "\n",
       "    .dataframe tbody tr th {\n",
       "        vertical-align: top;\n",
       "    }\n",
       "\n",
       "    .dataframe thead th {\n",
       "        text-align: right;\n",
       "    }\n",
       "</style>\n",
       "<table border=\"1\" class=\"dataframe\">\n",
       "  <thead>\n",
       "    <tr style=\"text-align: right;\">\n",
       "      <th></th>\n",
       "      <th>song</th>\n",
       "      <th>artist</th>\n",
       "      <th>genre</th>\n",
       "      <th>parts</th>\n",
       "      <th>chords</th>\n",
       "      <th>lyrics</th>\n",
       "    </tr>\n",
       "  </thead>\n",
       "  <tbody>\n",
       "    <tr>\n",
       "      <th>0</th>\n",
       "      <td>None</td>\n",
       "      <td>None</td>\n",
       "      <td>[]</td>\n",
       "      <td>[Verse, Chorus, Post-Chorus, Verse, Chorus, Bridge, Chorus, Outro]</td>\n",
       "      <td>[[[E, B, Dbm, A], [E, B, Dbm, A], [E, B, Dbm, A, B], [E, B, Dbm, A], [E], [B, Dbm, A, B]], [[A, B, E, B, A], [B, E, B], [A, B, E, B, A, B]], [[E, B, Dbm, A]], [[E, B, Dbm, A], [E, B, Dbm, A, B], [E, B, Dbm, A], [E, B, Dbm], [A, B]], [[A, B, E, B, A], [B, E, B], [A, B, E, B, A, B]], [[E], [B, Dbm], [A, E], [B], [Dbm], [A, B]], [[A, B, E, B, A], [B, E, B], [A, B, E, B, A, B, E, B], [A, B, E, B, A, B]], [[E, B, Dbm, A, B], [E, B, Dbm, A, B], [E]]]</td>\n",
       "      <td>[[Hey-ay, Hey-ay-AY-ay-ay, Hey-ay-AY-ay-ay, Your lipstick stains on the front lobe of my left side brains, I knew I wouldn't for-get you and so I went and let you blow my mind, Your sweet moonbeam the smell of you in every single dream I dream, I knew when we col-lided you're the one, I have de-cided who's one of my kind], [Hey soul sister ain't that mister mister on the radio stereo, The way you move aint fair you know, Hey soul sister I don't want to miss a single thing you do], [To-night Hey-ay, Hey-ay-AY-ay-ay, Hey-ay-AY-ay-ay], [Just in ti-i-i-ime I'm so glad you have a one track mind like me, You gave my love dir-ection a game show love con-nection we can't deny-i-iii, I'm so obsessed my heart is bound to beat right outta my untrimmed chest, I believe in you like a virgin you're Ma-donna and I'm always gonna wanna, blow your mind], [Hey soul sister ain't that mister mister on the radio stereo, The way you move aint fair you know, Hey soul sister I don't want to miss a single ...</td>\n",
       "    </tr>\n",
       "  </tbody>\n",
       "</table>\n",
       "</div>"
      ],
      "text/plain": [
       "   song artist genre  \\\n",
       "0  None   None    []   \n",
       "\n",
       "                                                                parts  \\\n",
       "0  [Verse, Chorus, Post-Chorus, Verse, Chorus, Bridge, Chorus, Outro]   \n",
       "\n",
       "                                                                                                                                                                                                                                                                                                                                                                                                                                                             chords  \\\n",
       "0  [[[E, B, Dbm, A], [E, B, Dbm, A], [E, B, Dbm, A, B], [E, B, Dbm, A], [E], [B, Dbm, A, B]], [[A, B, E, B, A], [B, E, B], [A, B, E, B, A, B]], [[E, B, Dbm, A]], [[E, B, Dbm, A], [E, B, Dbm, A, B], [E, B, Dbm, A], [E, B, Dbm], [A, B]], [[A, B, E, B, A], [B, E, B], [A, B, E, B, A, B]], [[E], [B, Dbm], [A, E], [B], [Dbm], [A, B]], [[A, B, E, B, A], [B, E, B], [A, B, E, B, A, B, E, B], [A, B, E, B, A, B]], [[E, B, Dbm, A, B], [E, B, Dbm, A, B], [E]]]   \n",
       "\n",
       "                                                                                                                                                                                                                                                                                                                                                                                                                                                                                                                                                                                                                                                                                                                                                                                                                                                                                                                                                                                                                                    lyrics  \n",
       "0  [[Hey-ay, Hey-ay-AY-ay-ay, Hey-ay-AY-ay-ay, Your lipstick stains on the front lobe of my left side brains, I knew I wouldn't for-get you and so I went and let you blow my mind, Your sweet moonbeam the smell of you in every single dream I dream, I knew when we col-lided you're the one, I have de-cided who's one of my kind], [Hey soul sister ain't that mister mister on the radio stereo, The way you move aint fair you know, Hey soul sister I don't want to miss a single thing you do], [To-night Hey-ay, Hey-ay-AY-ay-ay, Hey-ay-AY-ay-ay], [Just in ti-i-i-ime I'm so glad you have a one track mind like me, You gave my love dir-ection a game show love con-nection we can't deny-i-iii, I'm so obsessed my heart is bound to beat right outta my untrimmed chest, I believe in you like a virgin you're Ma-donna and I'm always gonna wanna, blow your mind], [Hey soul sister ain't that mister mister on the radio stereo, The way you move aint fair you know, Hey soul sister I don't want to miss a single ...  "
      ]
     },
     "execution_count": 78,
     "metadata": {},
     "output_type": "execute_result"
    }
   ],
   "source": [
    "df"
   ]
  },
  {
   "cell_type": "code",
   "execution_count": null,
   "metadata": {},
   "outputs": [],
   "source": []
  }
 ],
 "metadata": {
  "kernelspec": {
   "display_name": "Python 3",
   "language": "python",
   "name": "python3"
  },
  "language_info": {
   "codemirror_mode": {
    "name": "ipython",
    "version": 3
   },
   "file_extension": ".py",
   "mimetype": "text/x-python",
   "name": "python",
   "nbconvert_exporter": "python",
   "pygments_lexer": "ipython3",
   "version": "3.6.4"
  }
 },
 "nbformat": 4,
 "nbformat_minor": 2
}
